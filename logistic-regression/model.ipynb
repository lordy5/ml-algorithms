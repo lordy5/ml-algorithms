{
 "cells": [
  {
   "cell_type": "code",
   "execution_count": 1,
   "metadata": {},
   "outputs": [],
   "source": [
    "import torch\n",
    "import torch.nn as nn\n",
    "import pandas as pd"
   ]
  },
  {
   "attachments": {},
   "cell_type": "markdown",
   "metadata": {},
   "source": [
    "Data preprocessing, split into training and testing sets"
   ]
  },
  {
   "cell_type": "code",
   "execution_count": 4,
   "metadata": {},
   "outputs": [],
   "source": [
    "data = pd.read_csv('SVMtrain.csv')\n",
    "\n",
    "# One-hot encoding for 'Sex' column\n",
    "encoded = pd.get_dummies(data, columns=['Sex'])\n",
    "\n",
    "# Split into training and testing data\n",
    "train = data.sample(frac=0.8, random_state=200)\n",
    "test = data.drop(train.index)\n",
    "\n",
    "# Separate features (x) from target variables (y)\n",
    "train_x, train_y = train.drop('Survived', axis=1), train['Survived']\n",
    "test_x, test_y = train.drop('Survived', axis=1), train['Survived']"
   ]
  },
  {
   "cell_type": "code",
   "execution_count": null,
   "metadata": {},
   "outputs": [],
   "source": []
  }
 ],
 "metadata": {
  "kernelspec": {
   "display_name": "Python 3",
   "language": "python",
   "name": "python3"
  },
  "language_info": {
   "codemirror_mode": {
    "name": "ipython",
    "version": 3
   },
   "file_extension": ".py",
   "mimetype": "text/x-python",
   "name": "python",
   "nbconvert_exporter": "python",
   "pygments_lexer": "ipython3",
   "version": "3.10.11"
  },
  "orig_nbformat": 4
 },
 "nbformat": 4,
 "nbformat_minor": 2
}
