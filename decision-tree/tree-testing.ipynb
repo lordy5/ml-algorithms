{
 "cells": [
  {
   "cell_type": "code",
   "execution_count": 1,
   "metadata": {},
   "outputs": [],
   "source": [
    "import numpy as np\n",
    "import pandas as pd\n",
    "from tree import Tree, Node"
   ]
  },
  {
   "cell_type": "code",
   "execution_count": 2,
   "metadata": {},
   "outputs": [],
   "source": [
    "# Read csv\n",
    "data_df = pd.read_csv(\"Iris.csv\")\n",
    "# One-hot encoding, as this is required by the model\n",
    "data_encoded = pd.get_dummies(data_df, columns=['Species'])\n",
    "# Split into training, validation, and test sets\n",
    "train_df, validate_test_df = pd.train_test_split(data_encoded, test_size=.25, random_state=5)\n",
    "validate_df, test_df = pd.train_test_split(validate_test_df, test_size=.5, random_state=21)\n",
    "# Convert to numpy arrays\n",
    "train = train_df.values\n",
    "validate = validate_df.values\n",
    "test = test_df.values\n",
    "# Split features from labels\n",
    "X_train, Y_train = train[:, 1:5], train[:, 5:]\n",
    "X_val, Y_val = validate[:, 1:5], validate[:, 5:]\n",
    "X_test, Y_test = test[:, 1:5], test[:, 5:]"
   ]
  },
  {
   "cell_type": "code",
   "execution_count": null,
   "metadata": {},
   "outputs": [],
   "source": [
    "# Train the model\n",
    "myTree = Tree(X_train, Y_train, 5, 5)\n",
    "myTree.build_tree(myTree.root)"
   ]
  }
 ],
 "metadata": {
  "kernelspec": {
   "display_name": "Python 3",
   "language": "python",
   "name": "python3"
  },
  "language_info": {
   "codemirror_mode": {
    "name": "ipython",
    "version": 3
   },
   "file_extension": ".py",
   "mimetype": "text/x-python",
   "name": "python",
   "nbconvert_exporter": "python",
   "pygments_lexer": "ipython3",
   "version": "3.10.11"
  },
  "orig_nbformat": 4
 },
 "nbformat": 4,
 "nbformat_minor": 2
}
