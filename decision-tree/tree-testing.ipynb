{
 "cells": [
  {
   "cell_type": "code",
   "execution_count": 1,
   "metadata": {},
   "outputs": [],
   "source": [
    "import numpy as np\n",
    "import pandas as pd\n",
    "from tree import Tree, Node"
   ]
  },
  {
   "cell_type": "code",
   "execution_count": 2,
   "metadata": {},
   "outputs": [],
   "source": [
    "# Read csv\n",
    "data_df = pd.read_csv(\"Iris.csv\")\n",
    "# One-hot encoding, as this is required by the model\n",
    "data_encoded = pd.get_dummies(data_df, columns=['Species'])\n",
    "# Split into training, validation, and test sets\n",
    "train_df = data_encoded.sample(frac=.75, random_state=5)\n",
    "validate_test_df = data_encoded.drop(train_df.index)\n",
    "\n",
    "validate_df = validate_test_df.sample(frac=.5, random_state=21)\n",
    "test_df = validate_test_df.drop(validate_df.index)\n",
    "\n",
    "# Convert to numpy arrays\n",
    "train = train_df.values\n",
    "validate = validate_df.values\n",
    "test = test_df.values\n",
    "# Split features from labels\n",
    "X_train, Y_train = train[:, 1:5], train[:, 5:]\n",
    "X_val, Y_val = validate[:, 1:5], validate[:, 5:]\n",
    "X_test, Y_test = test[:, 1:5], test[:, 5:]"
   ]
  },
  {
   "cell_type": "code",
   "execution_count": 3,
   "metadata": {},
   "outputs": [],
   "source": [
    "# Train the model\n",
    "myTree = Tree(X_train, Y_train, 8, 5)\n",
    "myTree.build_tree(myTree.root)"
   ]
  },
  {
   "cell_type": "code",
   "execution_count": 4,
   "metadata": {},
   "outputs": [
    {
     "data": {
      "text/plain": [
       "2"
      ]
     },
     "execution_count": 4,
     "metadata": {},
     "output_type": "execute_result"
    }
   ],
   "source": [
    "myTree.make_prediction(X_val[5])\n",
    "#X_val[0][1]"
   ]
  },
  {
   "cell_type": "code",
   "execution_count": 6,
   "metadata": {},
   "outputs": [
    {
     "name": "stdout",
     "output_type": "stream",
     "text": [
      "Percentage of correct classifications: 84.21052631578947%\n"
     ]
    }
   ],
   "source": [
    "myTree.check_accuracy(X_test, Y_test)"
   ]
  },
  {
   "cell_type": "code",
   "execution_count": null,
   "metadata": {},
   "outputs": [],
   "source": []
  }
 ],
 "metadata": {
  "kernelspec": {
   "display_name": "Python 3",
   "language": "python",
   "name": "python3"
  },
  "language_info": {
   "codemirror_mode": {
    "name": "ipython",
    "version": 3
   },
   "file_extension": ".py",
   "mimetype": "text/x-python",
   "name": "python",
   "nbconvert_exporter": "python",
   "pygments_lexer": "ipython3",
   "version": "3.10.11"
  },
  "orig_nbformat": 4
 },
 "nbformat": 4,
 "nbformat_minor": 2
}
