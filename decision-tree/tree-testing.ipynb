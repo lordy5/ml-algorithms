{
 "cells": [
  {
   "cell_type": "code",
   "execution_count": 1,
   "metadata": {},
   "outputs": [],
   "source": [
    "import numpy as np\n",
    "from tree import Tree, Node"
   ]
  },
  {
   "cell_type": "code",
   "execution_count": 2,
   "metadata": {},
   "outputs": [],
   "source": [
    "test_data = np.array([\n",
    "    [1, 3, 2, 0],   # class 0\n",
    "    [3, 1, 4, 0],   # class 0\n",
    "    [2, 2, 1, 1],   # class 1\n",
    "    [4, 3, 2, 1],   # class 1\n",
    "    [1, 4, 3, 0],   # class 0\n",
    "    [2, 2, 4, 1],   # class 1\n",
    "    [3, 1, 1, 0],   # class 0\n",
    "    [4, 4, 4, 1],   # class 1\n",
    "])\n",
    "\n",
    "X = test_data[:, :3]\n",
    "y = test_data[:, 3:]\n",
    "\n",
    "myTree = Tree(X, y, 5, 2)"
   ]
  },
  {
   "cell_type": "code",
   "execution_count": 3,
   "metadata": {},
   "outputs": [],
   "source": [
    "myTree.build_tree(myTree.root)"
   ]
  },
  {
   "cell_type": "code",
   "execution_count": null,
   "metadata": {},
   "outputs": [],
   "source": []
  }
 ],
 "metadata": {
  "kernelspec": {
   "display_name": "Python 3",
   "language": "python",
   "name": "python3"
  },
  "language_info": {
   "codemirror_mode": {
    "name": "ipython",
    "version": 3
   },
   "file_extension": ".py",
   "mimetype": "text/x-python",
   "name": "python",
   "nbconvert_exporter": "python",
   "pygments_lexer": "ipython3",
   "version": "3.10.11"
  },
  "orig_nbformat": 4
 },
 "nbformat": 4,
 "nbformat_minor": 2
}
